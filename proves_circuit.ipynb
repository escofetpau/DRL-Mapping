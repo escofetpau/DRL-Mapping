{
 "cells": [
  {
   "cell_type": "code",
   "execution_count": 1,
   "metadata": {},
   "outputs": [],
   "source": [
    "import sparse\n",
    "import torch\n",
    "\n",
    "from stable_baselines3.common.monitor import Monitor\n",
    "from stable_baselines3.common.vec_env import DummyVecEnv\n",
    "from stable_baselines3.common.evaluation import evaluate_policy\n",
    "from sb3_contrib.common.wrappers import ActionMasker\n",
    "from sb3_contrib.ppo_mask import MaskablePPO\n",
    "\n",
    "from src.environment.env_place_pair import GraphSeriesEnvPlacePair\n",
    "from src.models.ppo_policy import CustomPPOPolicy\n",
    "from src.utils.callback import CustomTensorboardCallback\n",
    "from trainer import Trainer"
   ]
  },
  {
   "cell_type": "code",
   "execution_count": 2,
   "metadata": {},
   "outputs": [
    {
     "name": "stdout",
     "output_type": "stream",
     "text": [
      "[[[0 0 0 0]\n",
      "  [0 0 1 0]\n",
      "  [0 1 0 0]\n",
      "  [0 0 0 0]]\n",
      "\n",
      " [[0 0 0 0]\n",
      "  [0 0 0 0]\n",
      "  [0 0 0 1]\n",
      "  [0 0 1 0]]\n",
      "\n",
      " [[0 0 0 0]\n",
      "  [0 0 0 0]\n",
      "  [0 0 0 1]\n",
      "  [0 0 1 0]]]\n",
      "<ActionMasker<GraphSeriesEnvPlacePair instance>>\n"
     ]
    }
   ],
   "source": [
    "# environment\n",
    "import yaml\n",
    "\n",
    "with open('config.yaml', \"r\") as file:\n",
    "    config = yaml.safe_load(file)\n",
    "\n",
    "a = sparse.load_npz('data/cuccaroadder_q8.npz')\n",
    "a = a[:3]\n",
    "#circuit_config = {'circuit': a}\n",
    "\n",
    "\n",
    "def make_env():\n",
    "    env = GraphSeriesEnvPlacePair(circuit_config=config['circuit'], action_type=config['action_type'], weights_reward=config['weights_reward'])\n",
    "    print(env.circuit.todense())\n",
    "    env = ActionMasker(env, lambda e: e.env_mask())\n",
    "    #env = Monitor(env)\n",
    "    return env\n",
    "\n",
    "\n",
    "env = DummyVecEnv([make_env])\n",
    "print(env.envs[0])"
   ]
  },
  {
   "cell_type": "code",
   "execution_count": 3,
   "metadata": {},
   "outputs": [
    {
     "name": "stdout",
     "output_type": "stream",
     "text": [
      "nlcomm computed in take action [0. 0.]\n",
      "self.weights_reward[nonlocal] <class 'int'>\n",
      "nl_com <class 'numpy.ndarray'>\n",
      "self.weights_reward[intervention] <class 'int'>\n",
      "intervention <class 'bool'>\n",
      "reward [-20. -20.]\n",
      "allocation after action\n",
      "[[1. 0.]\n",
      " [0. 0.]\n",
      " [0. 0.]\n",
      " [0. 0.]]\n",
      "STEP RETURN DEBUG\n",
      "Observation keys and shapes:\n",
      "  old_allocation: type=<class 'numpy.ndarray'>, shape=(4, 2)\n",
      "  new_allocation: type=<class 'numpy.ndarray'>, shape=(4, 2)\n",
      "  interactions: type=<class 'numpy.ndarray'>, shape=(4, 4)\n",
      "  lookaheads: type=<class 'numpy.ndarray'>, shape=(4,)\n",
      "  n_qbits: type=<class 'numpy.ndarray'>, shape=(1,)\n",
      "  core_capacities: type=<class 'numpy.ndarray'>, shape=(2,)\n",
      "  flag: type=<class 'numpy.ndarray'>, shape=(4, 1)\n",
      "Reward: [-20. -20.] <class 'numpy.ndarray'>\n",
      "Done: False <class 'bool'>\n",
      "Truncated: False <class 'bool'>\n",
      "Info: {}\n"
     ]
    },
    {
     "data": {
      "text/plain": [
       "({'old_allocation': array([[0., 0.],\n",
       "         [0., 0.],\n",
       "         [0., 0.],\n",
       "         [0., 0.]]),\n",
       "  'new_allocation': array([[1., 0.],\n",
       "         [0., 0.],\n",
       "         [0., 0.],\n",
       "         [0., 0.]]),\n",
       "  'interactions': array([[0, 0, 0, 0],\n",
       "         [0, 0, 1, 0],\n",
       "         [0, 1, 0, 0],\n",
       "         [0, 0, 0, 0]]),\n",
       "  'lookaheads': array([0., 0., 1., 0.]),\n",
       "  'n_qbits': array([4]),\n",
       "  'core_capacities': array([3, 4]),\n",
       "  'flag': array([[0.],\n",
       "         [1.],\n",
       "         [0.],\n",
       "         [0.]])},\n",
       " array([-20., -20.]),\n",
       " False,\n",
       " False,\n",
       " {})"
      ]
     },
     "execution_count": 3,
     "metadata": {},
     "output_type": "execute_result"
    }
   ],
   "source": [
    "env.envs[0].step(0)"
   ]
  }
 ],
 "metadata": {
  "kernelspec": {
   "display_name": ".venv",
   "language": "python",
   "name": "python3"
  },
  "language_info": {
   "codemirror_mode": {
    "name": "ipython",
    "version": 3
   },
   "file_extension": ".py",
   "mimetype": "text/x-python",
   "name": "python",
   "nbconvert_exporter": "python",
   "pygments_lexer": "ipython3",
   "version": "3.12.8"
  }
 },
 "nbformat": 4,
 "nbformat_minor": 2
}
